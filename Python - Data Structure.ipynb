{
 "cells": [
  {
   "cell_type": "code",
   "execution_count": null,
   "id": "c18c2219-d7e8-41b3-897f-5655a154be19",
   "metadata": {},
   "outputs": [],
   "source": [
    "#Python - Data Structure Assigments Questions#"
   ]
  },
  {
   "cell_type": "raw",
   "id": "2ff4eba9-154b-4e0c-9968-b196f6ab2f5b",
   "metadata": {},
   "source": [
    "1.\tDiscuss string slicing and provide examples.\n",
    "2.\tExplain the key features of lists in Python.\n",
    "3.\tDescribe how to access, modify, and delete elements in a list with examples.\n",
    "4.  Compare and contrast tuples and lists with examples.\n",
    "5.\tDescribe the key features of sets and provide examples of their use.\n",
    "6.\tDiscuss the use cases of tuples and sets in Python programming.\n",
    "7.\tDescribe how to add, modify, and delete items in a dictionary with examples.\n",
    "8.\tDiscuss the importance of dictionary keys being immutable and provide examples."
   ]
  },
  {
   "cell_type": "code",
   "execution_count": null,
   "id": "19005480-6aa7-42c2-8c7c-fb2a1247a3fe",
   "metadata": {
    "jupyter": {
     "source_hidden": true
    },
    "tags": []
   },
   "outputs": [],
   "source": []
  },
  {
   "cell_type": "code",
   "execution_count": null,
   "id": "af1f27eb-d2be-46a2-bac9-bdd9c163c9dc",
   "metadata": {
    "tags": []
   },
   "outputs": [],
   "source": []
  },
  {
   "cell_type": "code",
   "execution_count": null,
   "id": "d952c3bb-d7a0-48ac-81f4-57e49e00df02",
   "metadata": {},
   "outputs": [],
   "source": [
    "Answer 1:- \n",
    "Slicing means extracting a part from something, and slicing a string means extracting some part from a string. This extracted part is also \n",
    "referred to as a sub-string. In short, string slicing in Python is obtaining a substring from a larger string by slicing it based on \n",
    "specific criteria. String slicing allows us to obtain a specific range of characters from a string based on their respective indices.\n",
    "\n",
    "Python string slicing is advantageous for a number of factors:\n",
    "    Subsetting Data\n",
    "    Data Extraction\n",
    "    String Manipulation\n",
    "    Efficient Access\n",
    "    Substring Creation"
   ]
  },
  {
   "cell_type": "code",
   "execution_count": null,
   "id": "5c05a890-361a-4e44-aefb-e92734dfce55",
   "metadata": {},
   "outputs": [],
   "source": [
    "Methods of String Slicing in Python:-\n",
    "String slicing in Python can be performed using two methods:\n",
    "\n",
    "1. Slice() Method\n",
    "2. List Slicing / Array Slicing"
   ]
  },
  {
   "cell_type": "code",
   "execution_count": null,
   "id": "69a8414a-c6c5-4c03-ac8f-48fbfd3ba8ee",
   "metadata": {},
   "outputs": [],
   "source": [
    "1. Slice() Method\n",
    "   The slice() method returns an object containing the range of string slicing. The parameter includes a set of range of values defined as \n",
    "(start, stop, step).\n",
    "\n",
    "Syntax:\n",
    "slice( Start_Index, End_Index, Steps )"
   ]
  },
  {
   "cell_type": "code",
   "execution_count": null,
   "id": "f7f5f1e5-dc61-40c9-939c-efa3bc299c35",
   "metadata": {},
   "outputs": [],
   "source": [
    "Slice() Method Example:-\n",
    "\n",
    "When only one parameter is passed to the slice() method, it takes it as the end index."
   ]
  },
  {
   "cell_type": "code",
   "execution_count": null,
   "id": "34fbe061-4742-4af9-b127-597f9421f11b",
   "metadata": {},
   "outputs": [],
   "source": [
    "Code: INPUT"
   ]
  },
  {
   "cell_type": "code",
   "execution_count": 1,
   "id": "6807b671-bdf2-4e41-aad0-1fb9a8d243e0",
   "metadata": {},
   "outputs": [
    {
     "name": "stdout",
     "output_type": "stream",
     "text": [
      "Coding\n"
     ]
    }
   ],
   "source": [
    "string = 'Coding Ninjas'\n",
    "print(string[slice(6)])\n",
    "\n",
    "OUTPUT:-"
   ]
  },
  {
   "cell_type": "code",
   "execution_count": null,
   "id": "441ae96b-00bf-4d93-8453-e30076f0b5ea",
   "metadata": {},
   "outputs": [],
   "source": [
    "2. List Slicing / Array Slicing\n",
    "   The List Slicing method is the most common way of string slicing in Python. The parameter includes a set of range of values defined as\n",
    "[start, stop, step].\n",
    "\n",
    "Syntax:\n",
    "string[ Start_Index : End_Index : Steps ] "
   ]
  },
  {
   "cell_type": "code",
   "execution_count": null,
   "id": "bdf05402-ab29-46a8-910f-bcab9a2d239d",
   "metadata": {},
   "outputs": [],
   "source": [
    "List Slicing / Array Slicing Example:-\n",
    "\n",
    "Slicing a string within a given range."
   ]
  },
  {
   "cell_type": "code",
   "execution_count": null,
   "id": "a865776c-e238-45f4-a320-74077d3ba541",
   "metadata": {},
   "outputs": [],
   "source": [
    "Code: INPUT"
   ]
  },
  {
   "cell_type": "code",
   "execution_count": 2,
   "id": "8e965d67-db4a-49de-aab2-c3fac4601b2b",
   "metadata": {},
   "outputs": [
    {
     "name": "stdout",
     "output_type": "stream",
     "text": [
      "Saumy\n"
     ]
    }
   ],
   "source": [
    "string = 'Coding Saumya'\n",
    "print(string[7:12])\n",
    "\n",
    "OUTPUT:-"
   ]
  },
  {
   "cell_type": "code",
   "execution_count": null,
   "id": "49804376-871a-4224-9861-a5ce539e194c",
   "metadata": {},
   "outputs": [],
   "source": [
    "Answer 2:- \n",
    "   Pythom lists can store an ordered collection of items, or elements, of varying types. They are often used to compile multiple items into \n",
    "a single, mutable variable, which is helpful for retrieving items, specifying outputs or performing calculations quickly.\n",
    "\n",
    "8 Ways to Modify a Python List:-\n",
    " Index method\n",
    " Count method\n",
    " Sort method\n",
    " Append method\n",
    " Remove method\n",
    " Pop method\n",
    " Extend method\n",
    " Insert method"
   ]
  },
  {
   "cell_type": "raw",
   "id": "dd215151-ff9a-47a2-9795-abb1613bdf08",
   "metadata": {
    "tags": []
   },
   "source": [
    "Index Method\n",
    "   The index method returns the first index at which a value occurs."
   ]
  },
  {
   "cell_type": "code",
   "execution_count": 3,
   "id": "74aeb009-f107-4f1d-9c61-77e83a227655",
   "metadata": {},
   "outputs": [
    {
     "name": "stdout",
     "output_type": "stream",
     "text": [
      "0\n"
     ]
    }
   ],
   "source": [
    "# Define a list\n",
    "z = [4, 1, 5, 4, 10, 4]\n",
    "print(z.index(4))"
   ]
  },
  {
   "cell_type": "raw",
   "id": "5dd889ab-d4a9-4a62-a877-eb8336bd4781",
   "metadata": {},
   "source": [
    "Count method\n",
    "   The count method counts the number of times a value occurs in a list."
   ]
  },
  {
   "cell_type": "code",
   "execution_count": 4,
   "id": "b9f791c8-eb4f-4bb3-b3ef-12c35fc50db8",
   "metadata": {},
   "outputs": [
    {
     "data": {
      "text/plain": [
       "1"
      ]
     },
     "execution_count": 4,
     "metadata": {},
     "output_type": "execute_result"
    }
   ],
   "source": [
    "random_list = [4, 1, 5, 4, 10, 4]\n",
    "random_list.count(5)"
   ]
  },
  {
   "cell_type": "raw",
   "id": "d4fa55e2-ef7d-4cb9-9d4d-75d6c480a665",
   "metadata": {},
   "source": [
    "Sort Method\n",
    "   The sort method sorts and alters the original list in place."
   ]
  },
  {
   "cell_type": "code",
   "execution_count": 5,
   "id": "dc0c3e78-3f76-419d-b7bf-ee5b9b0bee1b",
   "metadata": {},
   "outputs": [
    {
     "name": "stdout",
     "output_type": "stream",
     "text": [
      "[2, 3, 4, 7]\n"
     ]
    }
   ],
   "source": [
    "z = [3, 7, 4, 2]\n",
    "z.sort()\n",
    "print(z)"
   ]
  },
  {
   "cell_type": "raw",
   "id": "5d4756ac-5b06-428e-9ee0-9bffd1d08d14",
   "metadata": {
    "tags": []
   },
   "source": [
    "Append method\n",
    "   The append method adds an element to the end of a list."
   ]
  },
  {
   "cell_type": "code",
   "execution_count": 6,
   "id": "28dd5b35-4b79-4d33-a426-04c0fa71a1be",
   "metadata": {},
   "outputs": [
    {
     "name": "stdout",
     "output_type": "stream",
     "text": [
      "[7, 4, 3, 2, 3]\n"
     ]
    }
   ],
   "source": [
    "z = [7, 4, 3, 2]\n",
    "z.append(3)\n",
    "print(z)"
   ]
  },
  {
   "cell_type": "raw",
   "id": "6f9bce63-ca66-4bbf-91b2-74783ec3b32c",
   "metadata": {},
   "source": [
    "Remove method\n",
    "   The remove method removes the first occurrence of a value in a list."
   ]
  },
  {
   "cell_type": "code",
   "execution_count": 7,
   "id": "bc2fd4fc-b50e-45b7-9cf6-518aeaaa88b6",
   "metadata": {},
   "outputs": [
    {
     "name": "stdout",
     "output_type": "stream",
     "text": [
      "[7, 4, 3, 3]\n"
     ]
    }
   ],
   "source": [
    "z = [7, 4, 3, 2, 3]\n",
    "z.remove(2)\n",
    "print(z)"
   ]
  },
  {
   "cell_type": "raw",
   "id": "4cd45e31-30ab-422b-9227-bcb78e6f54d7",
   "metadata": {},
   "source": [
    "Pop Method\n",
    "   The pop method removes an item at the index you provide. This method will also return the item you removed from the list. If you don’t \n",
    "provide an index, it will default to removing the item at the last index."
   ]
  },
  {
   "cell_type": "code",
   "execution_count": 8,
   "id": "706bb9f0-b082-40e5-b618-582b6c0101da",
   "metadata": {},
   "outputs": [
    {
     "name": "stdout",
     "output_type": "stream",
     "text": [
      "4\n",
      "[7, 3, 3]\n"
     ]
    }
   ],
   "source": [
    "z = [7, 4, 3, 3]\n",
    "print(z.pop(1))\n",
    "print(z)"
   ]
  },
  {
   "cell_type": "raw",
   "id": "66ff005e-7c48-4b38-8d51-19966d52a25e",
   "metadata": {},
   "source": [
    "Extend Method\n",
    "   This method extends a list by appending items. The benefit of this is you can add lists together."
   ]
  },
  {
   "cell_type": "code",
   "execution_count": 9,
   "id": "95aff024-93cf-4e15-9565-252899b4b9dd",
   "metadata": {},
   "outputs": [
    {
     "name": "stdout",
     "output_type": "stream",
     "text": [
      "[7, 3, 3, 4, 5]\n"
     ]
    }
   ],
   "source": [
    "z = [7, 3, 3]\n",
    "z.extend([4,5])\n",
    "print(z)"
   ]
  },
  {
   "cell_type": "raw",
   "id": "73bf1a23-be59-4856-85ed-c19c910547b8",
   "metadata": {},
   "source": [
    "Insert Method\n",
    "   The insert method inserts an item before the index you provide."
   ]
  },
  {
   "cell_type": "code",
   "execution_count": 10,
   "id": "7ec06a67-f645-41a6-9fdc-cf8fa84ee6d4",
   "metadata": {},
   "outputs": [
    {
     "name": "stdout",
     "output_type": "stream",
     "text": [
      "[7, 3, 3, 4, [1, 2], 5]\n"
     ]
    }
   ],
   "source": [
    "z = [7, 3, 3, 4, 5]\n",
    "z.insert(4, [1, 2])\n",
    "print(z)"
   ]
  },
  {
   "cell_type": "code",
   "execution_count": null,
   "id": "02c25b39-a25f-4b6a-9908-cf1c474c1443",
   "metadata": {},
   "outputs": [],
   "source": [
    "Answer 3:-\n",
    "   Accessing, modifying, and deleting elements in a list are fundamental operations in Python. Here’s a brief overview of how to perform \n",
    "each operation with examples:\n",
    "\n",
    "1. Accessing Elements\n",
    "You can access elements in a list by using their index. Python uses zero-based indexing, meaning the first element has an index of 0.\n",
    "\n",
    "Example:"
   ]
  },
  {
   "cell_type": "code",
   "execution_count": 19,
   "id": "3381ba99-a708-42dd-969a-048b7de7dc86",
   "metadata": {},
   "outputs": [],
   "source": [
    "my_list = [10, 20, 30, 40, 50]\n",
    "\n",
    "# Access the first element\n",
    "first_element = my_list[0]  # Output: 10\n",
    "\n",
    "# Access the third element\n",
    "third_element = my_list[2]  # Output: 30"
   ]
  },
  {
   "cell_type": "code",
   "execution_count": null,
   "id": "99cb5b6a-324d-4146-a59d-a9a729b4c1f0",
   "metadata": {},
   "outputs": [],
   "source": [
    "2. Modifying Elements\n",
    "You can modify an element in a list by assigning a new value to a specific index.\n",
    "\n",
    "Example:"
   ]
  },
  {
   "cell_type": "code",
   "execution_count": 20,
   "id": "50a69798-ac7b-45a7-9d0b-b5e7310f1ecf",
   "metadata": {},
   "outputs": [],
   "source": [
    "my_list = [10, 20, 30, 40, 50]\n",
    "\n",
    "# Modify the second element\n",
    "my_list[1] = 99  # List now becomes [10, 99, 30, 40, 50]\n",
    "\n",
    "# Modify the last element\n",
    "my_list[-1] = 100  # List now becomes [10, 99, 30, 40, 100]"
   ]
  },
  {
   "cell_type": "code",
   "execution_count": null,
   "id": "66527d0a-82ef-49fb-817a-7e97736c8024",
   "metadata": {},
   "outputs": [],
   "source": [
    "3. Deleting Elements\n",
    "You can delete elements from a list using several methods:\n",
    "\n",
    "Using del Statement: Deletes an element at a specific index.\n",
    "Using pop() Method: Removes and returns an element at a specific index.\n",
    "Using remove() Method: Removes the first occurrence of a specific value.\n",
    "\n",
    "Examples:"
   ]
  },
  {
   "cell_type": "code",
   "execution_count": 21,
   "id": "6c1b0820-90d7-4f7a-9fbc-8fd99610c3a0",
   "metadata": {},
   "outputs": [],
   "source": [
    "my_list = [10, 20, 30, 40, 50]\n",
    "\n",
    "# Delete the element at index 2\n",
    "del my_list[2]  # List now becomes [10, 20, 40, 50]\n",
    "\n",
    "# Remove and return the element at index 1\n",
    "removed_element = my_list.pop(1)  # removed_element is 20; List now becomes [10, 40, 50]\n",
    "\n",
    "# Remove the first occurrence of value 50\n",
    "my_list.remove(50)  # List now becomes [10, 40]"
   ]
  },
  {
   "cell_type": "raw",
   "id": "48507311-0ee7-43eb-9715-bc78a712c1c5",
   "metadata": {},
   "source": [
    "Summary\n",
    "Accessing Elements: Use list[index] to retrieve an element.\n",
    "Modifying Elements: Use list[index] = new_value to change an element.\n",
    "Deleting Elements: Use del list[index], list.pop(index), or list.remove(value) to delete elements.\n",
    "These operations allow you to effectively manage and manipulate lists in Python."
   ]
  },
  {
   "cell_type": "code",
   "execution_count": null,
   "id": "c2c20991-803d-4d46-a6fb-a98e72dab01e",
   "metadata": {},
   "outputs": [],
   "source": [
    "Answer 4:-\n",
    "   Differences between List and Tuple in Python:-\n",
    "\n",
    "LIST: \n",
    "    Lists are mutable\n",
    "    The implication of iterations is Time-consuming\n",
    "    The list is better for performing operations, such as insertion and deletion.\n",
    "    Lists consume more memory\n",
    "    Lists have several built-in methods\n",
    "    Unexpected changes and errors are more likely to occur.\n",
    "\n",
    "TUPLE:\n",
    "    Tuples are immutable\n",
    "    The implication of iterations is comparatively Faster\n",
    "    A Tuple data type is appropriate for accessing the elements\n",
    "    Tuple consumes less memory as compared to the list\n",
    "    Tuple does not have many built-in methods.\n",
    "    Because tuples don’t change they are far less error-prone."
   ]
  },
  {
   "cell_type": "raw",
   "id": "226b4619-78b5-435e-b4a9-ccca6b88c33c",
   "metadata": {},
   "source": [
    "EXAMPLE:-"
   ]
  },
  {
   "cell_type": "code",
   "execution_count": 11,
   "id": "47b90c0d-6847-4e08-9e41-25a982c05550",
   "metadata": {},
   "outputs": [
    {
     "name": "stdout",
     "output_type": "stream",
     "text": [
      "Original list  [1, 2, 4, 4, 3, 3, 3, 6, 5]\n",
      "Example to show mutability  [1, 2, 4, 77, 3, 3, 3, 6, 5]\n"
     ]
    }
   ],
   "source": [
    "# Creating a List with\n",
    "# the use of Numbers\n",
    "# code to test that tuples are mutable\n",
    "List = [1, 2, 4, 4, 3, 3, 3, 6, 5]\n",
    "print(\"Original list \", List)\n",
    "\n",
    "List[3] = 77\n",
    "print(\"Example to show mutability \", List)"
   ]
  },
  {
   "cell_type": "code",
   "execution_count": null,
   "id": "cd8cfb03-0c7b-4c56-a6b5-fa8ca4798a33",
   "metadata": {},
   "outputs": [],
   "source": [
    "Answer 5:-\n",
    "   sets are a collection of well-defined objects or elements. A set is represented by a capital letter symbol and the number of elements in \n",
    "the finite set is represented as the cardinal number of a set in a curly bracket {…}. For example, set A is a collection of all the natural \n",
    "numbers, such as A = {1,2,3,4,5,6,7,8,…..∞}.\n",
    "\n",
    "Sets can be represented in three forms:\n",
    "\n",
    "1. Roster Form: Example- Set of even numbers less than \n",
    "8={2,4,6}\n",
    "2. Statement Form: Example-A = {Set of Odd numbers less than 9}\n",
    "3. Set Builder Form: Example: A = {x: x=2n, n ∈ N and 1 ≤ n ≤ 4}"
   ]
  },
  {
   "cell_type": "code",
   "execution_count": null,
   "id": "e111d9ff-36c9-4ca8-b828-471f5d062226",
   "metadata": {},
   "outputs": [],
   "source": [
    "A set has many types, such as;\n",
    "\n",
    "1. Empty Set or Null set: It has no element present in it.\n",
    "Example: A = {} is a null set.\n",
    "2. Finite Set: It has a limited number of elements.\n",
    "Example: A = {1,2,3,4}\n",
    "3. Infinite Set: It has an infinite number of elements.\n",
    "Example: A = {x: x is the set of all whole numbers}\n",
    "4 Equal Set: Two sets which have the same members.\n",
    "Example: A = {1,2,5} and B={2,5,1}: Set A = Set B\n",
    "5. Subsets: A set ‘A’ is said to be a subset of B if each element of A is also an element of B.\n",
    "Example: A={1,2}, B={1,2,3,4}, then A ⊆ B\n",
    "6. Universal Set: A set which consists of all elements of other sets present in a Venn diagram.\n",
    "Example: A={1,2}, B={2,3}, The universal set here will be, U = {1, 2,3}"
   ]
  },
  {
   "cell_type": "code",
   "execution_count": null,
   "id": "2246f1e5-124b-4b52-8e27-04450b75c2cb",
   "metadata": {},
   "outputs": [],
   "source": [
    "Answer 6:-\n",
    "   In Python, a tuple could be a data type comparable to a list but immutable, meaning it cannot be changed once made. A tuple is made by \n",
    "enclosing a sequence of values in parentheses, separated by commas.\n",
    "\n",
    "The Syntax of Tuple:-\n",
    "     variable_name=(tuple elements separated by comma)"
   ]
  },
  {
   "cell_type": "raw",
   "id": "e3038b9d-17de-41ce-85ef-11e40c4a1367",
   "metadata": {},
   "source": [
    "EXAMPLES:-"
   ]
  },
  {
   "cell_type": "code",
   "execution_count": 12,
   "id": "9137f464-89ac-4f29-abe9-77cd23965fae",
   "metadata": {},
   "outputs": [
    {
     "name": "stdout",
     "output_type": "stream",
     "text": [
      "1\n",
      "3\n"
     ]
    }
   ],
   "source": [
    "my_tuple = (1, 2, 3, 4, 5)\n",
    "\n",
    "# Accessing the first element of the tuple\n",
    "print(my_tuple[0]) # Output: 1\n",
    "\n",
    "# Accessing the third element of the tuple\n",
    "print(my_tuple[2]) # Output: 3"
   ]
  },
  {
   "cell_type": "code",
   "execution_count": 13,
   "id": "422ac2af-7a43-456a-ace5-a47ed0c01765",
   "metadata": {},
   "outputs": [
    {
     "name": "stdout",
     "output_type": "stream",
     "text": [
      "5\n",
      "4\n"
     ]
    }
   ],
   "source": [
    "my_tuple = (1, 2, 3, 4, 5)\n",
    "\n",
    "# Accessing the last element of the tuple\n",
    "print(my_tuple[-1]) # Output: 5\n",
    "\n",
    "# Accessing the second last element of the tuple\n",
    "print(my_tuple[-2]) # Output: 4"
   ]
  },
  {
   "cell_type": "code",
   "execution_count": 14,
   "id": "4d6bf087-cf15-4bad-a84b-ef34244c4a61",
   "metadata": {},
   "outputs": [
    {
     "name": "stdout",
     "output_type": "stream",
     "text": [
      "(2, 3)\n"
     ]
    }
   ],
   "source": [
    "my_tuple = (1, 2, 3, 4, 5)\n",
    "\n",
    "# Slicing the tuple to get elements from index 1 to 3 (excluding 3)\n",
    "sliced_tuple = my_tuple[1:3]\n",
    "\n",
    "print(sliced_tuple) # Output: (2, 3)"
   ]
  },
  {
   "cell_type": "code",
   "execution_count": null,
   "id": "f3d1123e-3058-4105-903d-d2eed9960cec",
   "metadata": {},
   "outputs": [],
   "source": [
    "   In Python, a set is a collection of unique elements that are unordered and mutable. Sets are created by placing elements inside curly\n",
    "braces, separated by commas.\n",
    "\n",
    "The Syntax of Set:\n",
    "     variable_name=(set elements separated by comma)"
   ]
  },
  {
   "cell_type": "raw",
   "id": "a274439b-53fc-4035-9489-643be19b2a2f",
   "metadata": {},
   "source": [
    "EXAMPLES:-"
   ]
  },
  {
   "cell_type": "code",
   "execution_count": 15,
   "id": "f686a762-b10b-455b-8405-38459299159b",
   "metadata": {},
   "outputs": [
    {
     "name": "stdout",
     "output_type": "stream",
     "text": [
      "{1, 2, 3, 4, 5}\n"
     ]
    }
   ],
   "source": [
    "# Using curly braces\n",
    "my_set = {1, 2, 3, 4, 5}\n",
    "\n",
    "# Using set() function\n",
    "my_set = set([1, 2, 3, 4, 5])\n",
    "\n",
    "print(my_set)"
   ]
  },
  {
   "cell_type": "code",
   "execution_count": 16,
   "id": "e53f39ad-f478-4afe-89a8-62f2938e2761",
   "metadata": {},
   "outputs": [
    {
     "name": "stdout",
     "output_type": "stream",
     "text": [
      "{1, 4}\n"
     ]
    }
   ],
   "source": [
    "my_set = {1, 2, 3}\n",
    "\n",
    "my_set.add(4) # Add element 4 to the set\n",
    "my_set.remove(3) # Remove element 3 from the set\n",
    "my_set.discard(2) # Remove element 2 from the set (if it exists)\n",
    "\n",
    "print(my_set)"
   ]
  },
  {
   "cell_type": "code",
   "execution_count": 17,
   "id": "a1112754-e9d5-4108-8739-ba5010376d90",
   "metadata": {},
   "outputs": [
    {
     "name": "stdout",
     "output_type": "stream",
     "text": [
      "{1, 2, 3, 4, 5}\n",
      "{3}\n",
      "{1, 2}\n"
     ]
    }
   ],
   "source": [
    "set1 = {1, 2, 3}\n",
    "set2 = {3, 4, 5}\n",
    "\n",
    "union = set1 | set2 # Union of set1 and set2 (elements in either set)\n",
    "intersection = set1 & set2 # Intersection of set1 and set2 (elements in both sets)\n",
    "difference = set1 - set2 # Difference of set1 and set2 (elements in set1 but not in set2)\n",
    "\n",
    "print(union)\n",
    "print(intersection)\n",
    "print(difference)"
   ]
  },
  {
   "cell_type": "code",
   "execution_count": 18,
   "id": "07c18b92-fdb2-4312-a9c9-986945666a36",
   "metadata": {},
   "outputs": [
    {
     "name": "stdout",
     "output_type": "stream",
     "text": [
      "1\n",
      "2\n",
      "3\n",
      "4\n",
      "5\n"
     ]
    }
   ],
   "source": [
    "\n",
    "my_set = {1, 2, 3, 4, 5} \n",
    "for element in my_set: \n",
    "    print(element)"
   ]
  },
  {
   "cell_type": "code",
   "execution_count": 19,
   "id": "df3fe79f-8cc2-4a1d-85a0-9db8934539d3",
   "metadata": {},
   "outputs": [
    {
     "name": "stdout",
     "output_type": "stream",
     "text": [
      "3 is in the set\n"
     ]
    }
   ],
   "source": [
    "\n",
    "my_set = {1, 2, 3, 4, 5} \n",
    "if 3 in my_set: \n",
    "    print(\"3 is in the set\") \n",
    "else:\n",
    "    print(\"3 is not in the set\")"
   ]
  },
  {
   "cell_type": "code",
   "execution_count": null,
   "id": "efcf85a5-fa9c-441c-ba73-945d0b556f52",
   "metadata": {},
   "outputs": [],
   "source": [
    "Answer 7:-\n",
    "Python Dictionary is a collection of key-value pairs that are widely used in programs and are also a fundamental part of the Python \n",
    "implementation.\n",
    "\n",
    "For Example, the Python built-in functions live in __builtins__.__dict__.\n",
    "\n",
    "Because of their importance, it is crucial to know its built-in methods so that manipulating (creating, accessing, deleting, etc) them will \n",
    "be a child’s play.\n",
    "\n",
    "Create A Dictionary:-\n",
    "  To recap, a dictionary is formed by having a bunch of key-value pairs enclosed by a curly bracket. We can create dictionaries in two ways:\n",
    "        \n",
    "        #Creating Dictionaries With {} And Dict()#\n",
    "With the curly bracket({}) and built-in dict() class, we can create empty dictionaries and dictionaries with user-defined data(key-value \n",
    "pairs).\n",
    "\n",
    "Example 1: Create empty dictionaries and print their contents."
   ]
  },
  {
   "cell_type": "code",
   "execution_count": 1,
   "id": "384c9933-1329-4662-824a-80d6d8545c7e",
   "metadata": {},
   "outputs": [
    {
     "name": "stdout",
     "output_type": "stream",
     "text": [
      "My Dict One:  {'one': 1, 'two': 2, 'three': 3}\n",
      "My Dict Two:  {'one': 1, 'two': 2, 'three': 3}\n",
      "My Dict Three:  {'one': 1, 'two': 2, 'three': 3}\n",
      "My Dict Four:  {'one': 1, 'two': 2, 'three': 3}\n",
      "My Dict Five:  {'one': 1, 'two': 2, 'three': 3}\n"
     ]
    }
   ],
   "source": [
    "my_dict_one = {'one':1,'two':2,'three':3} # with curly brackets\n",
    "print(\"My Dict One: \",my_dict_one)\n",
    " \n",
    "my_dict_two = dict({'one':1,'two':2,'three':3}) # with curly brackets in dict()\n",
    "print(\"My Dict Two: \",my_dict_two)\n",
    " \n",
    "my_dict_three = dict(one=1,two=2,three=3) # with dict() and keyword-arguments\n",
    "print(\"My Dict Three: \",my_dict_three)\n",
    " \n",
    "my_dict_four = dict(zip(['one','two','three'],[1,2,3])) # with dict() and lists in zip()\n",
    "print(\"My Dict Four: \",my_dict_four)\n",
    " \n",
    "my_dict_five = dict([('one',1),('two',2),('three',3)]) # with dict() and list of tuples\n",
    "print(\"My Dict Five: \",my_dict_five)"
   ]
  },
  {
   "cell_type": "code",
   "execution_count": null,
   "id": "2f374430-2461-430f-b4de-61324fa2534c",
   "metadata": {},
   "outputs": [],
   "source": [
    "   #Creating Dictionary With Dictionary Comprehensions#\n",
    "This is a powerful way to build a dictionary by operating on iterable. Dictionary comprehensions were introduced to replace for-loops. \n",
    "However, not all for-loops can be written as a dictionary comprehension.\n",
    "\n",
    "Example 2: Create a new dictionary where the key is the double of a number in the range from 0 to 5 and the value is the square of the \n",
    "number\n",
    "\n",
    "Solution 2.1: Using the for-loop"
   ]
  },
  {
   "cell_type": "code",
   "execution_count": 2,
   "id": "e216f037-19e4-47be-85cc-d197f8ce5ef6",
   "metadata": {},
   "outputs": [
    {
     "name": "stdout",
     "output_type": "stream",
     "text": [
      "NEW DICT:  {0: 0, 2: 1, 4: 4, 6: 9, 8: 16}\n"
     ]
    }
   ],
   "source": [
    "def dict_from_range():\n",
    "    new_dict = {} # create our empty dict to hold the result\n",
    "    r = range(0,5) # range from 0 to 5\n",
    "    #iterate through the range\n",
    "    for value in r:\n",
    "        new_value = value**2 # assign value as the square of the number\n",
    "        key = value*2 # assign key as the double of the number\n",
    "        new_dict[key] = new_value # add to dict. \n",
    " \n",
    "    return new_dict\n",
    " \n",
    "if __name__ == '__main__':\n",
    "    new_dict = dict_from_range()\n",
    "    print(\"NEW DICT: \", new_dict)"
   ]
  },
  {
   "cell_type": "code",
   "execution_count": null,
   "id": "350e1872-5912-472a-87a6-fbfd253ac232",
   "metadata": {},
   "outputs": [],
   "source": [
    "Solution 2.2: Using dict comprehensions"
   ]
  },
  {
   "cell_type": "code",
   "execution_count": 5,
   "id": "28f6ffad-2999-4b49-9d40-cbb86854e524",
   "metadata": {},
   "outputs": [
    {
     "name": "stdout",
     "output_type": "stream",
     "text": [
      "{0: 0, 2: 1, 4: 4, 6: 9, 8: 16}\n"
     ]
    }
   ],
   "source": [
    "new_dict = {val*2: val**2 for val in range(0,5)}\n",
    "print(new_dict)"
   ]
  },
  {
   "cell_type": "code",
   "execution_count": null,
   "id": "b62b59f0-4550-4d02-b8fa-8544e4ef963a",
   "metadata": {},
   "outputs": [],
   "source": [
    "   #Creating Dictionaries With Dictionary Methods#\n",
    "\n",
    "The Python dictionary has certain methods that we can use to create new dictionaries from existing dictionaries.\n",
    "\n",
    "1. dict.fromkeys(s[,value])\n",
    "\n",
    "This dictionary method creates a new dictionary with keys from the sequence, s, and values set to value. If the value is not defined, all \n",
    "the keys will be mapped to None.\n",
    "\n",
    "This is useful when we have a bunch of keys and we want to give them the same initial value.\n",
    "\n",
    "Example 3: Create a dict with the list of keys [‘one’,’One’,’ONE’] and give them each the value of 1."
   ]
  },
  {
   "cell_type": "code",
   "execution_count": 6,
   "id": "7eaf4b7e-e70d-4ed1-a3d6-39cceb911646",
   "metadata": {},
   "outputs": [
    {
     "name": "stdout",
     "output_type": "stream",
     "text": [
      "{'one': 1, 'One': 1, 'ONE': 1}\n"
     ]
    }
   ],
   "source": [
    "my_dict_six = dict.fromkeys(['one','One','ONE'],1) # all keys mapped to the value '1'\n",
    "print(my_dict_six)"
   ]
  },
  {
   "cell_type": "raw",
   "id": "5cd296a3-a82f-4c2d-9d8e-1b3fe718869f",
   "metadata": {},
   "source": [
    "The code below shows the result without the value defined."
   ]
  },
  {
   "cell_type": "code",
   "execution_count": 7,
   "id": "3378d644-5dcd-4c1a-8dcc-83b70d45c195",
   "metadata": {},
   "outputs": [
    {
     "name": "stdout",
     "output_type": "stream",
     "text": [
      "{'four': None, 'five': None, 'six': None}\n"
     ]
    }
   ],
   "source": [
    "my_dict_seven = dict.fromkeys(['four','five','six']) # value is not defined, all keys mapped to None.\n",
    "print(my_dict_seven)"
   ]
  },
  {
   "cell_type": "code",
   "execution_count": null,
   "id": "28a9a8ef-cf2d-440a-b44d-3e60dc95c2fd",
   "metadata": {},
   "outputs": [],
   "source": [
    "2. d.copy()\n",
    "\n",
    "This method returns a shallow copy of the dictionary.\n",
    "\n",
    "NB: Shallow means it copies just one level deeper.\n",
    "\n",
    "Example 4: Create a copy of a nested dictionary and demonstrate that a shallow copy was made."
   ]
  },
  {
   "cell_type": "code",
   "execution_count": 8,
   "id": "927769ad-fdd6-4447-9786-e7f1626fbcdc",
   "metadata": {},
   "outputs": [
    {
     "name": "stdout",
     "output_type": "stream",
     "text": [
      "Nested Dict:  {'a': 0, 'b': 1, 'c': {'d': 3, 'e': 4}}\n",
      "nested Dict Copy:  {'a': 0, 'b': 1, 'c': {'d': 3, 'e': 4}}\n",
      "Changed Dict:  {'a': -1, 'b': 1, 'c': {'d': 3, 'e': 4}}\n",
      "Nested Dict Copy:  {'a': 0, 'b': 1, 'c': {'d': 3, 'e': 4}}\n",
      "Two level changed Dict:  {'a': -1, 'b': 1, 'c': {'d': -3, 'e': 4}}\n",
      "Nested Dict Copy:  {'a': 0, 'b': 1, 'c': {'d': -3, 'e': 4}}\n"
     ]
    }
   ],
   "source": [
    "nested_dict = {'a':0,'b':1,'c':{'d':3,'e':4}} # our nested dict\n",
    "print(\"Nested Dict: \", nested_dict)\n",
    " \n",
    "nested_dict_cpy = nested_dict.copy() # make a copy of the dict\n",
    "print(\"nested Dict Copy: \", nested_dict_cpy)\n",
    " \n",
    "nested_dict['a'] = -1 # change value of key 'a' in original dict\n",
    "print(\"Changed Dict: \", nested_dict)\n",
    " \n",
    "print(\"Nested Dict Copy: \", nested_dict_cpy) # copied dict remains unchanged\n",
    " \n",
    "nested_dict['c']['d'] = -3 # change value of key 'd' two level deep\n",
    "print(\"Two level changed Dict: \", nested_dict)\n",
    " \n",
    "print(\"Nested Dict Copy: \", nested_dict_cpy) # copied dict changes as well"
   ]
  },
  {
   "cell_type": "code",
   "execution_count": null,
   "id": "63937fd6-f11f-4e87-a2a1-77bb9f77d1b6",
   "metadata": {},
   "outputs": [],
   "source": [
    "Delete From A Dictionary:-\n",
    "   Delete elements from a dictionary also return these elements. However, the del keyword can be used to delete an element by key without a \n",
    "return.\n",
    "\n",
    "Example 5: Remove and return values of keys ‘one’ and ‘seven’ from the dictionary dict_1 . Return 0"
   ]
  },
  {
   "cell_type": "code",
   "execution_count": 10,
   "id": "cadd168f-742a-43df-9a07-339bd548af2d",
   "metadata": {},
   "outputs": [
    {
     "name": "stdout",
     "output_type": "stream",
     "text": [
      "Dict:  {'one': 1, 'two': 2, 'three': 3, 'four': 4, 'five': 5}\n",
      "1\n",
      "0\n",
      "Dict after pop:  {'two': 2, 'three': 3, 'four': 4, 'five': 5}\n"
     ]
    }
   ],
   "source": [
    "dict_1 = {'one': 1, 'two': 2, 'three': 3, 'four': 4, 'five': 5}\n",
    "dict_new = dict_1.copy() # make a copy to work with\n",
    "print(\"Dict: \", dict_new)\n",
    " \n",
    "pop_one = dict_new.pop('one',0) # remove and return for key 'one'\n",
    "print(pop_one)\n",
    " \n",
    "pop_seven = dict_new.pop('seven',0) # remove and return for key 'seven'\n",
    "print(pop_seven)\n",
    " \n",
    "print(\"Dict after pop: \", dict_new)"
   ]
  },
  {
   "cell_type": "code",
   "execution_count": null,
   "id": "b3906e1e-32b0-48e3-8d4b-7109ac1c29ae",
   "metadata": {},
   "outputs": [],
   "source": [
    "Update A Dictionary:-\n",
    "\n",
    "We can change the value of a key in a dictionary. The most common way is via indexing as shown below.\n",
    "\n",
    "Example 6: In the dictionary dict_1, change the value of the keys ‘one’ and ‘two’ to 01 and 02 respectively."
   ]
  },
  {
   "cell_type": "code",
   "execution_count": 11,
   "id": "1bf83230-51f5-4568-98cf-eb26bd64e310",
   "metadata": {},
   "outputs": [
    {
     "name": "stdout",
     "output_type": "stream",
     "text": [
      "Dict before update:  {'one': 1, 'two': 2, 'three': 3, 'four': 4, 'five': 5}\n",
      "Dict after update:  {'one': '01', 'two': '02', 'three': 3, 'four': 4, 'five': 5}\n"
     ]
    }
   ],
   "source": [
    "dict_1 = {'one': 1, 'two': 2, 'three': 3, 'four': 4, 'five': 5}\n",
    "dict_new = dict_1.copy() # make a copy to work with\n",
    "print(\"Dict before update: \", dict_new)\n",
    " \n",
    "dict_new['one'] = '01' # change value of key 'one'\n",
    "dict_new['two'] = '02' # change value of key 'two'\n",
    " \n",
    "print(\"Dict after update: \", dict_new)"
   ]
  },
  {
   "cell_type": "code",
   "execution_count": null,
   "id": "1b4d9abb-40f7-4325-b155-5f9496964dd0",
   "metadata": {},
   "outputs": [],
   "source": [
    "Answer 8:-\n",
    "\n",
    "Dictionary keys need to be immutable because dictionaries use hashing to store and retrieve key-value pairs. If keys were mutable, their \n",
    "hash values could change, leading to inconsistencies and retrieval issues.\n",
    "\n",
    "Example:\n",
    "Immutable Key:"
   ]
  },
  {
   "cell_type": "code",
   "execution_count": 17,
   "id": "e25f989d-e762-4b4d-8a7f-8200234c85ef",
   "metadata": {},
   "outputs": [],
   "source": [
    "my_dict = {42: \"value\", \"key\": \"another value\", (1, 2): \"tuple key\"}"
   ]
  },
  {
   "cell_type": "raw",
   "id": "a267201d-13c6-4f15-a6e8-1348978296ea",
   "metadata": {},
   "source": [
    "Here, 42 (an integer), \"key\" (a string), and (1, 2) (a tuple) are immutable and can be used as dictionary keys.\n",
    "\n",
    "Mutable Key (Not Allowed):"
   ]
  },
  {
   "cell_type": "code",
   "execution_count": null,
   "id": "e41da933-6cde-48c3-997b-2d2e1dec0d45",
   "metadata": {},
   "outputs": [
    {
     "ename": "TypeError",
     "evalue": "unhashable type: 'list'",
     "output_type": "error",
     "traceback": [
      "\u001b[0;31m---------------------------------------------------------------------------\u001b[0m",
      "\u001b[0;31mTypeError\u001b[0m                                 Traceback (most recent call last)",
      "Cell \u001b[0;32mIn[18], line 2\u001b[0m\n\u001b[1;32m      1\u001b[0m my_list \u001b[38;5;241m=\u001b[39m [\u001b[38;5;241m1\u001b[39m, \u001b[38;5;241m2\u001b[39m, \u001b[38;5;241m3\u001b[39m]\n\u001b[0;32m----> 2\u001b[0m my_dict \u001b[38;5;241m=\u001b[39m {my_list: \u001b[38;5;124m\"\u001b[39m\u001b[38;5;124mvalue\u001b[39m\u001b[38;5;124m\"\u001b[39m}  \u001b[38;5;66;03m# Raises TypeError\u001b[39;00m\n",
      "\u001b[0;31mTypeError\u001b[0m: unhashable type: 'list'"
     ]
    }
   ],
   "source": [
    "my_list = [1, 2, 3]\n",
    "my_dict = {my_list: \"value\"}  # Raises TypeError"
   ]
  },
  {
   "cell_type": "code",
   "execution_count": null,
   "id": "61bae586-685f-4f0e-ac78-53f65a3e9465",
   "metadata": {},
   "outputs": [],
   "source": [
    "Lists are mutable, so you can't use them as dictionary keys."
   ]
  }
 ],
 "metadata": {
  "kernelspec": {
   "display_name": "Python 3 (ipykernel)",
   "language": "python",
   "name": "python3"
  },
  "language_info": {
   "codemirror_mode": {
    "name": "ipython",
    "version": 3
   },
   "file_extension": ".py",
   "mimetype": "text/x-python",
   "name": "python",
   "nbconvert_exporter": "python",
   "pygments_lexer": "ipython3",
   "version": "3.10.8"
  }
 },
 "nbformat": 4,
 "nbformat_minor": 5
}
